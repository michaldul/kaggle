{
 "cells": [
  {
   "cell_type": "code",
   "execution_count": 4,
   "metadata": {
    "collapsed": false
   },
   "outputs": [],
   "source": [
    "import pandas as pd\n",
    "import numpy as np\n",
    "from matplotlib_venn import venn2\n",
    "%matplotlib inline"
   ]
  },
  {
   "cell_type": "markdown",
   "metadata": {},
   "source": [
    "### how many ads from test are in train?"
   ]
  },
  {
   "cell_type": "code",
   "execution_count": 5,
   "metadata": {
    "collapsed": false,
    "scrolled": true
   },
   "outputs": [
    {
     "name": "stdout",
     "output_type": "stream",
     "text": [
      "there are 478950 train ads\n",
      "there are 381385 test ads\n",
      "test not in train: 65350, 17.13% of all test ads\n"
     ]
    },
    {
     "data": {
      "text/plain": [
       "<matplotlib_venn._common.VennDiagram at 0x73021c98d0>"
      ]
     },
     "execution_count": 5,
     "metadata": {},
     "output_type": "execute_result"
    },
    {
     "data": {
      "image/png": "[encoded data removed]",
      "text/plain": [
       "<matplotlib.figure.Figure at 0x7300168fd0>"
      ]
     },
     "metadata": {},
     "output_type": "display_data"
    }
   ],
   "source": [
    "train_ads = pd.read_csv('./data/clicks_train.csv', usecols=['ad_id']).ad_id.unique()\n",
    "test_ads = pd.read_csv('./data/clicks_test.csv', usecols=['ad_id']).ad_id.unique()\n",
    "print('there are {} train ads'.format(len(train_ads)))\n",
    "print('there are {} test ads'.format(len(test_ads)))\n",
    "print('test not in train: {}, {:.2f}% of all test ads'\n",
    "      .format(len(np.setdiff1d(test_ads, train_ads)), \n",
    "              len(np.setdiff1d(test_ads, train_ads))/len(test_ads)*100))\n",
    "venn2(subsets = (set(train_ads), set(test_ads)), set_labels=('train', 'test'))"
   ]
  }
 ],
 "metadata": {
  "anaconda-cloud": {},
  "kernelspec": {
   "display_name": "Python [Root]",
   "language": "python",
   "name": "Python [Root]"
  },
  "language_info": {
   "codemirror_mode": {
    "name": "ipython",
    "version": 3
   },
   "file_extension": ".py",
   "mimetype": "text/x-python",
   "name": "python",
   "nbconvert_exporter": "python",
   "pygments_lexer": "ipython3",
   "version": "3.5.1"
  }
 },
 "nbformat": 4,
 "nbformat_minor": 0
}
